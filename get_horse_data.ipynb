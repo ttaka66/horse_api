{
 "cells": [
  {
   "cell_type": "code",
   "execution_count": 1,
   "metadata": {
    "collapsed": true
   },
   "outputs": [],
   "source": [
    "from bs4 import BeautifulSoup\n",
    "import requests"
   ]
  },
  {
   "cell_type": "code",
   "execution_count": 2,
   "metadata": {
    "collapsed": true
   },
   "outputs": [],
   "source": [
    "url = 'http://db.netkeiba.com/horse/2012104759/'"
   ]
  },
  {
   "cell_type": "code",
   "execution_count": 4,
   "metadata": {
    "collapsed": false
   },
   "outputs": [],
   "source": [
    "res = requests.get(url)\n",
    "soup = BeautifulSoup(res.content, 'html.parser')"
   ]
  },
  {
   "cell_type": "code",
   "execution_count": 7,
   "metadata": {
    "collapsed": false
   },
   "outputs": [
    {
     "name": "stdout",
     "output_type": "stream",
     "text": [
      "<div class=\"db_head_name fc\">\n",
      " <div class=\"horse_title\">\n",
      "  <h1>\n",
      "   シュヴァルグラン\n",
      "  </h1>\n",
      "  <p class=\"rate\">\n",
      "   <img alt=\"\" src=\"http://cimg2.db.netkeiba.com/style/netkeiba.ja/image/db_icon_star_01.png\"/>\n",
      "   <img alt=\"\" src=\"http://cimg2.db.netkeiba.com/style/netkeiba.ja/image/db_icon_star_01.png\"/>\n",
      "   <img alt=\"\" src=\"http://cimg2.db.netkeiba.com/style/netkeiba.ja/image/db_icon_star_01.png\"/>\n",
      "   <img alt=\"\" src=\"http://cimg2.db.netkeiba.com/style/netkeiba.ja/image/db_icon_star_harf_01.png\"/>\n",
      "   <img alt=\"\" src=\"http://cimg2.db.netkeiba.com/style/netkeiba.ja/image/db_icon_star_no_01.png\"/>\n",
      "   <strong>\n",
      "    3.69\n",
      "    <!-- （<span></span>票）-->\n",
      "   </strong>\n",
      "  </p>\n",
      "  <p class=\"txt_01\">\n",
      "   現役　牡5歳　栗毛\n",
      "  </p>\n",
      " </div>\n",
      " <!-- /.horse_title\" -->\n",
      " <div class=\"HorseRegist_BtnBox fc\">\n",
      "  <!-- social api_community_show_horse_bookmark_link -->\n",
      "  <span id=\"HorseBookmarkLink\">\n",
      "  </span>\n",
      "  <script type=\"text/javascript\">\n",
      "   <!--\n",
      "$( document ).ready( function() {\n",
      "showHorseBookmarkLink( 'HorseBookmarkLink', '2012104759' );\n",
      "} );\n",
      "// -->\n",
      "  </script>\n",
      " </div>\n",
      " <!-- /.HorseRegist_BtnBox -->\n",
      "</div>\n",
      "\n"
     ]
    }
   ],
   "source": [
    "head = soup.find(\"div\",{'class':'db_head_name'})\n",
    "print(head.prettify())"
   ]
  },
  {
   "cell_type": "code",
   "execution_count": 49,
   "metadata": {
    "collapsed": false
   },
   "outputs": [
    {
     "data": {
      "text/plain": [
       "<h1>シュヴァルグラン 　</h1>"
      ]
     },
     "execution_count": 49,
     "metadata": {},
     "output_type": "execute_result"
    }
   ],
   "source": [
    "\n"
   ]
  },
  {
   "cell_type": "code",
   "execution_count": 44,
   "metadata": {
    "collapsed": false
   },
   "outputs": [
    {
     "name": "stdout",
     "output_type": "stream",
     "text": [
      "現役　牡5歳　栗毛\n"
     ]
    }
   ],
   "source": [
    "head_txt_01 = head.find('p',{'class':'txt_01'})\n",
    "horse_info = head_txt_01.find(text=True)\n",
    "print(horse_info)"
   ]
  },
  {
   "cell_type": "code",
   "execution_count": 48,
   "metadata": {
    "collapsed": false
   },
   "outputs": [
    {
     "name": "stdout",
     "output_type": "stream",
     "text": [
      "<table class=\"db_prof_table\" summary=\"のプロフィール\">\n",
      " <tr>\n",
      "  <th>\n",
      "   生年月日\n",
      "  </th>\n",
      "  <td>\n",
      "   2012年3月14日\n",
      "  </td>\n",
      " </tr>\n",
      " <tr>\n",
      "  <th>\n",
      "   調教師\n",
      "  </th>\n",
      "  <td>\n",
      "   <a href=\"/trainer/01061/\" title=\"友道康夫\">\n",
      "    友道康夫\n",
      "   </a>\n",
      "   (栗東)\n",
      "  </td>\n",
      " </tr>\n",
      " <tr>\n",
      "  <th>\n",
      "   馬主\n",
      "  </th>\n",
      "  <td>\n",
      "   <a href=\"/owner/006030/\" title=\"佐々木主浩\">\n",
      "    佐々木主浩\n",
      "   </a>\n",
      "  </td>\n",
      " </tr>\n",
      " <tr>\n",
      "  <th>\n",
      "   生産者\n",
      "  </th>\n",
      "  <td>\n",
      "   <a href=\"/breeder/373126/\" title=\"ノーザンファーム\">\n",
      "    ノーザンファーム\n",
      "   </a>\n",
      "  </td>\n",
      " </tr>\n",
      " <tr>\n",
      "  <th>\n",
      "   産地\n",
      "  </th>\n",
      "  <td>\n",
      "   安平町\n",
      "  </td>\n",
      " </tr>\n",
      " <tr>\n",
      "  <th>\n",
      "   セリ取引価格\n",
      "  </th>\n",
      "  <td>\n",
      "  </td>\n",
      " </tr>\n",
      " <tr>\n",
      "  <th>\n",
      "   中央獲得賞金\n",
      "  </th>\n",
      "  <td>\n",
      "   41,291.3万円\n",
      "  </td>\n",
      " </tr>\n",
      " <tr>\n",
      "  <th>\n",
      "   地方獲得賞金\n",
      "  </th>\n",
      "  <td>\n",
      "   0.0万円\n",
      "  </td>\n",
      " </tr>\n",
      " <tr>\n",
      "  <th>\n",
      "   通算成績\n",
      "  </th>\n",
      "  <td>\n",
      "   20戦6勝 [\n",
      "   <a href=\"/horse/result/2012104759/\" title=\"全競走成績\">\n",
      "    6-5-4-5\n",
      "   </a>\n",
      "   ]\n",
      "  </td>\n",
      " </tr>\n",
      " <tr>\n",
      "  <th>\n",
      "   主な勝鞍\n",
      "  </th>\n",
      "  <td>\n",
      "   <a href=\"/race/201609010811/\" title=\"16'阪神大賞典(G2)\">\n",
      "    16'阪神大賞典(G2)\n",
      "   </a>\n",
      "   <!--、<a href=\"/race/201605050211/\" title=16'アルゼンチン共和国杯(G2)\"\">16'アルゼンチン共和国杯(G2)</a>-->\n",
      "  </td>\n",
      " </tr>\n",
      " <tr>\n",
      "  <th>\n",
      "   近親馬\n",
      "  </th>\n",
      "  <td>\n",
      "   <a href=\"/horse/2009106264/\" title=\"ヴィルシーナ\">\n",
      "    ヴィルシーナ\n",
      "   </a>\n",
      "   、\n",
      "   <a href=\"/horse/2013106007/\" title=\"ヴィブロス\">\n",
      "    ヴィブロス\n",
      "   </a>\n",
      "  </td>\n",
      " </tr>\n",
      "</table>\n",
      "\n"
     ]
    }
   ],
   "source": [
    "table = soup.find(\"table\",{'class':'db_prof_table'})\n",
    "print(table.prettify())"
   ]
  },
  {
   "cell_type": "markdown",
   "metadata": {},
   "source": [
    "rows = table.find_all('tr')"
   ]
  },
  {
   "cell_type": "code",
   "execution_count": 43,
   "metadata": {
    "collapsed": false
   },
   "outputs": [
    {
     "name": "stdout",
     "output_type": "stream",
     "text": [
      "2012年3月14日\n",
      "友道康夫\n",
      "/trainer/01061/\n",
      "佐々木主浩\n",
      "/owner/006030/\n",
      "ノーザンファーム\n",
      "/breeder/373126/\n"
     ]
    }
   ],
   "source": [
    "rows = table.find_all('tr')\n",
    "row_num = 0\n",
    "for tr in rows:\n",
    "    if row_num == 0:\n",
    "        td_birth = tr.find('td')\n",
    "        birth = td_birth.find(text=True)\n",
    "        print(birth)\n",
    "    if row_num == 1:\n",
    "        a_breeder_name = tr.find('a')\n",
    "        breeder_name = a_breeder_name.find(text=True)\n",
    "        breeder_path = a_breeder_name.get('href')\n",
    "        print(breeder_name)\n",
    "        print(breeder_path)\n",
    "    if row_num == 2:\n",
    "        a_owner_name = tr.find('a')\n",
    "        owner_name = a_owner_name.find(text=True)\n",
    "        owner_path = a_owner_name.get('href')\n",
    "        print(owner_name)\n",
    "        print(owner_path)\n",
    "    if row_num == 3:\n",
    "        a_producer_name = tr.find('a')\n",
    "        producer_name = a_producer_name.find(text=True)\n",
    "        producer_path = a_producer_name.get('href')\n",
    "        print(producer_name)\n",
    "        print(producer_path)\n",
    "        break\n",
    "    row_num += 1"
   ]
  },
  {
   "cell_type": "code",
   "execution_count": null,
   "metadata": {
    "collapsed": true
   },
   "outputs": [],
   "source": []
  }
 ],
 "metadata": {
  "anaconda-cloud": {},
  "kernelspec": {
   "display_name": "Python [Root]",
   "language": "python",
   "name": "Python [Root]"
  },
  "language_info": {
   "codemirror_mode": {
    "name": "ipython",
    "version": 3
   },
   "file_extension": ".py",
   "mimetype": "text/x-python",
   "name": "python",
   "nbconvert_exporter": "python",
   "pygments_lexer": "ipython3",
   "version": "3.5.2"
  }
 },
 "nbformat": 4,
 "nbformat_minor": 0
}
